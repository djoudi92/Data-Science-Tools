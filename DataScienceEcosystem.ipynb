{
 "cells": [
  {
   "cell_type": "markdown",
   "id": "d37a5306-6988-42d8-984d-9d5dc5319728",
   "metadata": {},
   "source": [
    "# Data Science Tools and Ecosystem"
   ]
  },
  {
   "cell_type": "markdown",
   "id": "2c8c03e8-ade5-4cdf-9d97-52d54cc39632",
   "metadata": {},
   "source": [
    "In this notebook, Data Science Tools and Ecosystem are summarized."
   ]
  },
  {
   "cell_type": "markdown",
   "id": "0f290b2f-e1f4-4a83-abf5-eb14ed23a2a4",
   "metadata": {},
   "source": [
    "***Objectives:***\n",
    "* create tables and Mrkdowns in Jupyter Notebook\n",
    "* List popular languages for Data Science\n",
    "* commonly used libraries used by Data Scientists \n",
    "* List some development environment open source tools used in data science\n",
    "* few examples of evaluating arithmetic expressions in Python"
   ]
  },
  {
   "cell_type": "markdown",
   "id": "605a7689-b849-4722-9225-61319d63c95e",
   "metadata": {},
   "source": [
    "Some of the popular languages that Data Scientists use are:\n",
    "1. Python\n",
    "2. R\n",
    "3. Scala\n",
    "4. JAVA\n",
    "5. SQL \n",
    "6. Julia \n",
    "7. JavaScript"
   ]
  },
  {
   "cell_type": "markdown",
   "id": "f4f2084e-c261-491e-a6f6-b9f551813ec1",
   "metadata": {},
   "source": [
    "Some of the commonly used libraries used by Data Scientists include:\n",
    "1. Tensorflow\n",
    "2. scikit-learn\n",
    "3. Keras\n",
    "4. Pytorch\n",
    "5. Pandas \n",
    "5. Numpy"
   ]
  },
  {
   "cell_type": "markdown",
   "id": "f971ad9a-80c6-437b-9472-fe96da826d7d",
   "metadata": {},
   "source": [
    "|Data Science Tools|\n",
    "|------------------|\n",
    "|Jupyter Notebooks |\n",
    "|R Studio’s|\n",
    "|Apache Spark|"
   ]
  },
  {
   "cell_type": "markdown",
   "id": "1f50c787-5469-4132-bedd-3333e61fa75e",
   "metadata": {},
   "source": [
    "### Below are a few examples of evaluating arithmetic expressions in Python "
   ]
  },
  {
   "cell_type": "code",
   "execution_count": 2,
   "id": "04536b4e-49cc-47cb-8dd0-f19937e52714",
   "metadata": {
    "tags": []
   },
   "outputs": [
    {
     "data": {
      "text/plain": [
       "17"
      ]
     },
     "execution_count": 2,
     "metadata": {},
     "output_type": "execute_result"
    }
   ],
   "source": [
    "# This a simple arithmetic expression to mutiply then add integers\n",
    "(3*4)+5"
   ]
  },
  {
   "cell_type": "code",
   "execution_count": 3,
   "id": "48caabe6-083a-4cdf-ac35-777521bf82fc",
   "metadata": {
    "tags": []
   },
   "outputs": [
    {
     "name": "stdout",
     "output_type": "stream",
     "text": [
      "3.3333333333333335\n"
     ]
    }
   ],
   "source": [
    "# This will convert 200 minutes to hours by diving by 60\n",
    "minutes = 200\n",
    "hours = minutes / 60\n",
    "print(hours)"
   ]
  },
  {
   "cell_type": "markdown",
   "id": "c8c8c33b-fe53-4298-a618-41044051767c",
   "metadata": {},
   "source": [
    "## Author :\n",
    "Djoudi Abdessalem "
   ]
  },
  {
   "cell_type": "code",
   "execution_count": null,
   "id": "98f7c669-bee1-495e-a9aa-2439ddc35cba",
   "metadata": {},
   "outputs": [],
   "source": []
  }
 ],
 "metadata": {
  "kernelspec": {
   "display_name": "Python 3 (ipykernel)",
   "language": "python",
   "name": "python3"
  },
  "language_info": {
   "codemirror_mode": {
    "name": "ipython",
    "version": 3
   },
   "file_extension": ".py",
   "mimetype": "text/x-python",
   "name": "python",
   "nbconvert_exporter": "python",
   "pygments_lexer": "ipython3",
   "version": "3.11.5"
  }
 },
 "nbformat": 4,
 "nbformat_minor": 5
}
